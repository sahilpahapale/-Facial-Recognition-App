{
 "cells": [
  {
   "cell_type": "code",
   "execution_count": null,
   "id": "9728da04-222a-4cfd-aa46-490527ab442c",
   "metadata": {},
   "outputs": [],
   "source": [
    "import cv2\n",
    "import os\n",
    "import random\n",
    "import numpy as np\n",
    "from matplotlib import pyplot as plt"
   ]
  },
  {
   "cell_type": "code",
   "execution_count": null,
   "id": "22a878e2-fa6d-422f-946a-870e58631a11",
   "metadata": {},
   "outputs": [],
   "source": [
    "from tensorflow.keras.models import Model\n",
    "from tensorflow.keras.layers import Layer, Conv2D, Dense, MaxPooling2D, Input, Flatten\n",
    "import tensorflow as tf"
   ]
  },
  {
   "cell_type": "code",
   "execution_count": null,
   "id": "f52dea08-c926-4f2c-a17d-fff8f82ee1c4",
   "metadata": {},
   "outputs": [],
   "source": [
    "POS_PATH = os.path.join('data', 'positive')\n",
    "NEG_PATH = os.path.join('data', 'negative')\n",
    "ANC_PATH = os.path.join('data', 'anchor')"
   ]
  },
  {
   "cell_type": "code",
   "execution_count": null,
   "id": "a0ee6d57-4c2d-40cc-9dd6-03180812302a",
   "metadata": {},
   "outputs": [],
   "source": [
    "# os.makedirs(POS_PATH)\n",
    "# os.makedirs(NEG_PATH)\n",
    "# os.makedirs(ANC_PATH)"
   ]
  },
  {
   "cell_type": "code",
   "execution_count": null,
   "id": "ef9ac125-f804-4dea-a2db-8f5ac3c50204",
   "metadata": {},
   "outputs": [],
   "source": [
    "new_directory = 'C:/Users/LENOVO/FaceID' \n",
    "\n",
    "os.chdir(new_directory)\n",
    "\n",
    "print(os.getcwd())"
   ]
  },
  {
   "cell_type": "code",
   "execution_count": null,
   "id": "d31312b3-5bb8-4cda-ab7f-cd43a9de1811",
   "metadata": {},
   "outputs": [],
   "source": [
    "# base_path = 'lfw'\n",
    "\n",
    "# for directory in os.listdir(base_path):\n",
    "#      for file in os.listdir(base_path, directory):\n",
    "#          EX_PATH = os.path.join(base_path, directory, file)\n",
    "#          NEW_PATH = os.path.join(NEG_PATH, file)\n",
    "#          os.replace(EX_PATH, NEW_PATH)\n",
    "\n",
    "\n",
    "# base_path = 'lfw'  \n",
    "# NEG_PATH = 'C:/Users/LENOVO/FaceID/data/negative'  \n",
    "\n",
    "\n",
    "# for directory in os.listdir(base_path):\n",
    "#     dir_path = os.path.join(base_path, directory)\n",
    "    \n",
    "#     if os.path.isdir(dir_path):\n",
    "      \n",
    "#         for file in os.listdir(dir_path):\n",
    "#             EX_PATH = os.path.join(dir_path, file)  \n",
    "#             NEW_PATH = os.path.join(NEG_PATH, file)  \n",
    "            \n",
    "           \n",
    "#             os.replace(EX_PATH, NEW_PATH)\n"
   ]
  },
  {
   "cell_type": "code",
   "execution_count": null,
   "id": "a856bb98-8c70-4497-b51b-1aa9820a699f",
   "metadata": {},
   "outputs": [],
   "source": [
    "\n",
    "import uuid"
   ]
  },
  {
   "cell_type": "code",
   "execution_count": null,
   "id": "458fbcab-57ee-4c95-abb8-d71dfcff7439",
   "metadata": {},
   "outputs": [],
   "source": [
    "  cap = cv2.VideoCapture(0)\n",
    "while cap.isOpened():\n",
    "    ret, frame = cap.read()\n",
    "\n",
    "    if cv2.waitKey(10) & 0XFF == ord('a'):\n",
    "        imgname = os.path.join(ANC_PATH, '{}.jpg'.format(uuid.uuid1()))\n",
    "        cv2.imwrite(imgname, frame)\n",
    "\n",
    "    if cv2.waitKey(10) & 0XFF == ord('p'):\n",
    "        imgname = os.path.join(POS_PATH, '{}.jpg'.format(uuid.uuid1()))\n",
    "        cv2.imwrite(imgname, frame)\n",
    "\n",
    "    frame = frame[120:102+250, 200:200+250, :]\n",
    "    cv2.imshow('Image Collection', frame)\n",
    "    if cv2.waitKey(10) & 0XFF == ord('q'):\n",
    "        break\n",
    "\n",
    "cap.release()\n",
    "cv2.destroyAllWindows()"
   ]
  },
  {
   "cell_type": "code",
   "execution_count": null,
   "id": "98ec15bc-ada5-4be4-a9f8-5ae2b5cf741e",
   "metadata": {},
   "outputs": [],
   "source": [
    "anchor = tf.data.Dataset.list_files(ANC_PATH+'/*.jpg').take(300)\n",
    "positive = tf.data.Dataset.list_files(POS_PATH+'/*.jpg').take(300)\n",
    "negative = tf.data.Dataset.list_files(NEG_PATH+'/*.jpg').take(300)"
   ]
  },
  {
   "cell_type": "code",
   "execution_count": null,
   "id": "45e16544-dfce-4ff2-9401-2bd3fc850d12",
   "metadata": {},
   "outputs": [],
   "source": [
    " def preprocess(file_path):\n",
    "     byte_img = tf.io.read_file(file_path)\n",
    "     img = tf.io.decode_jpeg(byte_img)\n",
    "     img = tf.image.resize(img, (100,100))\n",
    "     img = img/255.0\n",
    "     return img\n",
    "     "
   ]
  },
  {
   "cell_type": "code",
   "execution_count": null,
   "id": "1db6793c-065a-4485-b089-fe54b299be90",
   "metadata": {},
   "outputs": [],
   "source": [
    "positives = tf.data.Dataset.zip((anchor, positive, tf.data.Dataset.from_tensor_slices(tf.ones(len(anchor)))))\n",
    "negatives = tf.data.Dataset.zip((anchor, negative, tf.data.Dataset.from_tensor_slices(tf.zeros(len(anchor)))))\n",
    "data = positives.concatenate(negatives)"
   ]
  },
  {
   "cell_type": "code",
   "execution_count": null,
   "id": "64e24282-3c9c-4686-9f38-ec851eb68511",
   "metadata": {},
   "outputs": [],
   "source": [
    "data"
   ]
  },
  {
   "cell_type": "code",
   "execution_count": null,
   "id": "c34135b7-4160-4087-937f-2dc81be8637e",
   "metadata": {},
   "outputs": [],
   "source": [
    "samples = data.as_numpy_iterator()"
   ]
  },
  {
   "cell_type": "code",
   "execution_count": null,
   "id": "b02fc832-52cb-4128-867e-4e5da85658c7",
   "metadata": {},
   "outputs": [],
   "source": [
    "samples.next()"
   ]
  },
  {
   "cell_type": "code",
   "execution_count": null,
   "id": "f3facb7f-6682-43a5-8392-4485c5b91976",
   "metadata": {},
   "outputs": [],
   "source": [
    "def preprocess_twin(input_img, validation_img, label):\n",
    "    return (preprocess(input_img), preprocess(validation_img), label)"
   ]
  },
  {
   "cell_type": "code",
   "execution_count": null,
   "id": "8ea9466e-1e94-46c4-9976-2137a1e7637e",
   "metadata": {},
   "outputs": [],
   "source": [
    "data = data.map(preprocess_twin)\n",
    "data = data.cache()\n",
    "data = data.shuffle(buffer_size=1024)"
   ]
  },
  {
   "cell_type": "code",
   "execution_count": null,
   "id": "47027686-a8b3-4b01-8097-31e93eb2b40b",
   "metadata": {},
   "outputs": [],
   "source": [
    "data"
   ]
  },
  {
   "cell_type": "code",
   "execution_count": null,
   "id": "f03c48ad-c328-4ac3-925e-7d937df3b490",
   "metadata": {},
   "outputs": [],
   "source": [
    "samples = data.as_numpy_iterator()"
   ]
  },
  {
   "cell_type": "code",
   "execution_count": null,
   "id": "059bd536-8b69-452b-8602-609c12b4b4bc",
   "metadata": {},
   "outputs": [],
   "source": [
    "len(samples.next())"
   ]
  },
  {
   "cell_type": "code",
   "execution_count": null,
   "id": "660fa00b-db1b-4014-a8ef-bc8474cc4de3",
   "metadata": {},
   "outputs": [],
   "source": [
    "plt.imshow(samples.next()[1])"
   ]
  },
  {
   "cell_type": "code",
   "execution_count": null,
   "id": "65f91bea-dd71-44fe-bd18-320d57d6619a",
   "metadata": {},
   "outputs": [],
   "source": [
    "train_data = data.take(round(len(data)*.7))\n",
    "train_data = train_data.batch(16)\n",
    "train_data = train_data.prefetch(8)"
   ]
  },
  {
   "cell_type": "code",
   "execution_count": null,
   "id": "254724fe-1e70-4c9a-b22f-5ee76d345fec",
   "metadata": {},
   "outputs": [],
   "source": [
    "test_data = data.skip(round(len(data)*.7))\n",
    "test_data = test_data.take(round(len(data)*.3))\n",
    "test_data = test_data.batch(16)\n",
    "test_data = test_data.prefetch(8)"
   ]
  },
  {
   "cell_type": "code",
   "execution_count": null,
   "id": "9c3b61db-6420-4871-b88d-e820b089971c",
   "metadata": {},
   "outputs": [],
   "source": [
    "def make_enbedding():\n",
    "    inp = Input(shape=(100,100,3), name = 'input_image')\n",
    "    c1 = Conv2D(64,(10,10), activation='relu')(inp)\n",
    "    m1 = MaxPooling2D(64,(2,2), padding='same')(c1)\n",
    "\n",
    "    c2 = Conv2D(128,(7,7), activation = 'relu')(m1)\n",
    "    m2 = MaxPooling2D(64,(2,2), padding = 'same')(c2)\n",
    "\n",
    "    c3 = Conv2D(128,(4,4), activation = 'relu')(m2)\n",
    "    m3 = MaxPooling2D(64,(2,2), padding = 'same')(c3)\n",
    "\n",
    "    c4 = Conv2D(256,(4,4), activation = 'relu')(m3)\n",
    "    f1 = Flatten()(c4)\n",
    "    d1 = Dense(4096, activation = 'sigmoid')(f1)\n",
    "\n",
    "    return Model(inputs = [inp], outputs = [d1], name = 'embedding')\n",
    "    "
   ]
  },
  {
   "cell_type": "code",
   "execution_count": null,
   "id": "2a490e95-a7f9-4777-84f3-0967b2a873b6",
   "metadata": {},
   "outputs": [],
   "source": [
    "embedding = make_enbedding()"
   ]
  },
  {
   "cell_type": "code",
   "execution_count": null,
   "id": "deec8309-69e7-4589-b8c3-bfe09d245351",
   "metadata": {},
   "outputs": [],
   "source": [
    "embedding.summary()"
   ]
  },
  {
   "cell_type": "code",
   "execution_count": null,
   "id": "e2256d5b-b78a-4d30-9920-24138fbd4b2e",
   "metadata": {},
   "outputs": [],
   "source": [
    "class L1Dist(Layer):\n",
    "    def __init__(self, **kwargs):\n",
    "        super().__init__()\n",
    "\n",
    "    def call(self, input_embedding, validation_embedding):\n",
    "        input_embedding = tf.convert_to_tensor(input_embedding)\n",
    "        validation_embedding = tf.convert_to_tensor(validation_embedding)\n",
    "        return tf.math.abs(input_embedding - validation_embedding)"
   ]
  },
  {
   "cell_type": "code",
   "execution_count": null,
   "id": "b03cb42f-d86d-44db-b663-6733bef2d150",
   "metadata": {},
   "outputs": [],
   "source": [
    "l1 = L1Dist()"
   ]
  },
  {
   "cell_type": "code",
   "execution_count": null,
   "id": "564bff0e-2808-40a4-8634-860e3f54a8e3",
   "metadata": {},
   "outputs": [],
   "source": [
    "def make_siamese_model():\n",
    "\n",
    "    input_image = Input(name='input_img', shape=(100,100,3))\n",
    "    validation_image = Input(name='validation_img', shape=(100,100,3))\n",
    "    input_embedding = embedding(input_image)\n",
    "    validation_embedding = embedding(validation_image)\n",
    "    siamese_layer = L1Dist()\n",
    "    siamese_layer._name = 'distance'\n",
    "    distance = siamese_layer(input_embedding, validation_embedding)\n",
    "\n",
    "    classifier = Dense(1, activation = 'sigmoid')(distance)\n",
    "    return Model(inputs=[input_image, validation_image], outputs=classifier, name='siameseNetwork')"
   ]
  },
  {
   "cell_type": "code",
   "execution_count": null,
   "id": "2aba4ee1-bda8-4d9e-864a-2663c964a2ca",
   "metadata": {},
   "outputs": [],
   "source": [
    "siamese_model = make_siamese_model()"
   ]
  },
  {
   "cell_type": "code",
   "execution_count": null,
   "id": "69aaf59c-dc79-480a-b32a-63c4fbba598c",
   "metadata": {},
   "outputs": [],
   "source": [
    "siamese_model.summary()"
   ]
  },
  {
   "cell_type": "code",
   "execution_count": null,
   "id": "efa4f216-de8e-4579-a081-28811d79856b",
   "metadata": {},
   "outputs": [],
   "source": [
    "binary_cross_loss = tf.losses.BinaryCrossentropy()"
   ]
  },
  {
   "cell_type": "code",
   "execution_count": null,
   "id": "19c73fb0-be9c-45c7-acfb-f8583447116c",
   "metadata": {},
   "outputs": [],
   "source": [
    "opt = tf.keras.optimizers.Adam(learning_rate=1e-4)"
   ]
  },
  {
   "cell_type": "code",
   "execution_count": null,
   "id": "381aef13-d2fd-4c21-a94e-46fe89464708",
   "metadata": {},
   "outputs": [],
   "source": [
    "checkpoint_dir = './training_checkpoints'\n",
    "checkpoint_prefix = os.path.join(checkpoint_dir, 'ckpt')\n",
    "checkpoint = tf.train.Checkpoint(opt=opt, siamese_model=siamese_model)\n"
   ]
  },
  {
   "cell_type": "code",
   "execution_count": null,
   "id": "9478c79f-6d4d-462a-87ce-61db35d98c8b",
   "metadata": {},
   "outputs": [],
   "source": [
    "@tf.function\n",
    "def train_step(batch):\n",
    "    with tf.GradientTape() as tape:\n",
    "        X = batch[:2]\n",
    "        y = batch[2]\n",
    "\n",
    "        yhat = siamese_model(X, training = True)\n",
    "        yhat = tf.squeeze(yhat, axis=0)\n",
    "        loss = binary_cross_loss(y, yhat)\n",
    "\n",
    "        grad = tape.gradient(loss, siamese_model.trainable_variables)\n",
    "        opt.apply_gradients(zip(grad, siamese_model.trainable_variables))\n",
    "        return loss"
   ]
  },
  {
   "cell_type": "code",
   "execution_count": null,
   "id": "fd9b2107-f217-4e55-b775-110269a0ca05",
   "metadata": {},
   "outputs": [],
   "source": [
    "def train(data, EPOCHS):\n",
    "    for epoch in range(1, EPOCHS+1):\n",
    "        print('\\n Epoch{}/{}'.format(epoch, EPOCHS))\n",
    "        progbar = tf.keras.utils.Progbar(len(data))\n",
    "\n",
    "        for idx, batch in enumerate(data):\n",
    "            train_step(batch)\n",
    "            progbar.update(idx+1)\n",
    "\n",
    "        if epoch % 10 == 0:\n",
    "            checkpoint.save(file_prefix=checkpoint_prefix)\n",
    "    "
   ]
  },
  {
   "cell_type": "code",
   "execution_count": null,
   "id": "885195a5-e495-45ce-b332-637dfab1673e",
   "metadata": {},
   "outputs": [],
   "source": [
    "EPOCHS = 50"
   ]
  },
  {
   "cell_type": "code",
   "execution_count": null,
   "id": "1c9b6666-9d1a-49f5-93a0-76f7efc95316",
   "metadata": {},
   "outputs": [],
   "source": [
    "# train(train_data, EPOCHS)"
   ]
  },
  {
   "cell_type": "code",
   "execution_count": null,
   "id": "0b663343-27cb-41b6-92ff-940f4cc5e355",
   "metadata": {},
   "outputs": [],
   "source": [
    "from tensorflow.keras.metrics import Precision, Recall"
   ]
  },
  {
   "cell_type": "code",
   "execution_count": null,
   "id": "7614e14f-8d56-4d0c-96f3-1f5b33874e66",
   "metadata": {},
   "outputs": [],
   "source": [
    "test_input, test_val, y_true = test_data.as_numpy_iterator().next()"
   ]
  },
  {
   "cell_type": "code",
   "execution_count": null,
   "id": "180968b6-8b1d-4f21-b7b9-50d2b65d1b53",
   "metadata": {},
   "outputs": [],
   "source": [
    "test_var = test_data.as_numpy_iterator().next"
   ]
  },
  {
   "cell_type": "code",
   "execution_count": null,
   "id": "8dabc53a-6264-457a-90a4-4fc84e0f35ae",
   "metadata": {},
   "outputs": [],
   "source": [
    "y_hat = siamese_model.predict([test_input, test_val])\n",
    "y_hat"
   ]
  },
  {
   "cell_type": "code",
   "execution_count": null,
   "id": "3406f4c2-d870-45c0-85ab-ce8857ecb6ae",
   "metadata": {},
   "outputs": [],
   "source": [
    "[1 if prediction > 0.5 else 0 for prediction in y_hat.flatten()]"
   ]
  },
  {
   "cell_type": "code",
   "execution_count": null,
   "id": "884718f6-54c5-4bf0-a18c-6f7e53a692fa",
   "metadata": {},
   "outputs": [],
   "source": [
    "y_true"
   ]
  },
  {
   "cell_type": "code",
   "execution_count": null,
   "id": "3e29b601-7680-458e-a8b6-a1591f69a9d8",
   "metadata": {},
   "outputs": [],
   "source": [
    "m = Recall()\n",
    "m.update_state(y_true, y_hat)\n",
    "m.result().numpy()"
   ]
  },
  {
   "cell_type": "code",
   "execution_count": null,
   "id": "73ab6f98-7926-42f5-9017-f2e4898c42b5",
   "metadata": {},
   "outputs": [],
   "source": [
    "siamese_model.save('siamesemodel.keras')"
   ]
  },
  {
   "cell_type": "code",
   "execution_count": null,
   "id": "65252197-6a88-46de-b17f-673e0f471bbb",
   "metadata": {},
   "outputs": [],
   "source": [
    "model = tf.keras.models.load_model('siamesemodel.keras', custom_objects={'L1Dist':L1Dist, 'BinaryCrossentropy':tf.losses.BinaryCrossentropy})"
   ]
  },
  {
   "cell_type": "code",
   "execution_count": null,
   "id": "559a1196-2d64-45bf-a6a5-daca8cd88878",
   "metadata": {},
   "outputs": [],
   "source": [
    "model.summary()"
   ]
  },
  {
   "cell_type": "markdown",
   "id": "f20750f6-db8b-4c20-b7b2-c39614864d58",
   "metadata": {},
   "source": [
    "## Real Time Test"
   ]
  },
  {
   "cell_type": "code",
   "execution_count": null,
   "id": "46436f4e-6633-4eef-9684-d1f96d1e25eb",
   "metadata": {},
   "outputs": [],
   "source": [
    "\n",
    "def verify(frame, model, detection_threshold, verification_threshold):\n",
    "    results = []\n",
    "    for image in os.listdir(os.path.join('Application_data', 'Verification_image')):\n",
    "        input_img = preprocess(os.path.join('Application_data', 'Input_image', 'Input_image.jpg'))\n",
    "        validation_img = preprocess(os.path.join('Application_data', 'Verification_image', image))\n",
    "\n",
    "        result = model.predict(list(np.expand_dims([input_img, validation_img], axis=1)))\n",
    "        results.append(result)\n",
    "    \n",
    "    detection = np.sum(np.array(results)> detection_threshold)\n",
    "    verification = detection / len(os.listdir(os.path.join('Application_data', 'verification_image')))\n",
    "    verified = verification > verification_threshold\n",
    "\n",
    "    return results, verified"
   ]
  },
  {
   "cell_type": "code",
   "execution_count": null,
   "id": "1dcc60d0-e636-49ea-967a-948e5def0b8f",
   "metadata": {},
   "outputs": [],
   "source": [
    "cap = cv2.VideoCapture(0)\n",
    "while cap.isOpened():\n",
    "    ret, frame = cap.read()\n",
    "    frame = frame[120:102+250, 200:200+250, :]\n",
    "\n",
    "    cv2.imshow('verified', frame)\n",
    "\n",
    "    if cv2.waitKey(10) & 0xFF == ord('v'):\n",
    "        save_path = os.path.join('Application_data', 'input_image', 'input_image.jpg')\n",
    "        cv2.imwrite(save_path, frame)\n",
    "        result, verified = verify(frame, model, 0.5, 0.5)\n",
    "        print(verified)\n",
    "\n",
    "    if cv2.waitKey(10) & 0xFF == ord('q'):\n",
    "        break\n",
    "\n",
    "cap.release()\n",
    "cv2.destroyAllWindows()"
   ]
  },
  {
   "cell_type": "code",
   "execution_count": null,
   "id": "51fcea77-c9ed-4e10-8c07-1d0bbd3335f6",
   "metadata": {},
   "outputs": [],
   "source": []
  }
 ],
 "metadata": {
  "kernelspec": {
   "display_name": "tfkernel",
   "language": "python",
   "name": "tfkernel"
  },
  "language_info": {
   "codemirror_mode": {
    "name": "ipython",
    "version": 3
   },
   "file_extension": ".py",
   "mimetype": "text/x-python",
   "name": "python",
   "nbconvert_exporter": "python",
   "pygments_lexer": "ipython3",
   "version": "3.12.0"
  }
 },
 "nbformat": 4,
 "nbformat_minor": 5
}
